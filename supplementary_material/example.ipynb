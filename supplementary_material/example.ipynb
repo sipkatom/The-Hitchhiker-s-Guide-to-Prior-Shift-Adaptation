{
 "cells": [
  {
   "cell_type": "markdown",
   "metadata": {},
   "source": [
    "# The Hitchhiker's Guide to Prior-Shift Adaptation\n",
    "\n",
    "This sample code for prior shift adaptation is a supplementary material for the paper: \n",
    "\n",
    "Tomas Sipka, Milan Sulc and Jiri Matas. [The Hitchhiker's Guide to Prior-Shift Adaptation](http://arxiv.org/abs/2106.11695). arXiv: 2106.11695, 2021."
   ]
  },
  {
   "cell_type": "code",
   "execution_count": 1,
   "metadata": {},
   "outputs": [],
   "source": [
    "import torch\n",
    "import pandas as pd\n",
    "from algorithms import *\n",
    "import matplotlib.pyplot as plt\n",
    "from IPython.display import display\n",
    "\n",
    "pd.set_option(\"display.precision\", 2)\n",
    "pd.set_option(\"display.float_format\", '{:0.2f}'.format)"
   ]
  },
  {
   "cell_type": "markdown",
   "metadata": {},
   "source": [
    "# Load predictions (logits)\n",
    "\n",
    "Predictions of a resnet-32 classifier trained on CIFAR100-LT with imbalance ratio 112.5, as described in the paper. The label distribution is plotted below."
   ]
  },
  {
   "cell_type": "code",
   "execution_count": 2,
   "metadata": {},
   "outputs": [
    {
     "data": {
      "image/png": "[encoded data removed]",
      "text/plain": [
       "<Figure size 1080x360 with 3 Axes>"
      ]
     },
     "metadata": {
      "needs_background": "light"
     },
     "output_type": "display_data"
    }
   ],
   "source": [
    "predictions_dict = torch.load('CIFAR100_LT_outputs/outputs.pth.tar', map_location=torch.device('cpu'))\n",
    "outputs_train = predictions_dict['outputs_train'].detach().to('cpu')\n",
    "targets_train = predictions_dict['targets_train'].detach().to('cpu')\n",
    "outputs_val = predictions_dict['outputs_val'].detach().to('cpu')\n",
    "targets_val = predictions_dict['targets_val'].detach().to('cpu')\n",
    "outputs_test = predictions_dict['outputs_test'].detach().to('cpu')\n",
    "targets_test = predictions_dict['targets_test'].detach().to('cpu')\n",
    "\n",
    "# count samples per class\n",
    "num_classes = outputs_val.shape[1]\n",
    "classes_train = count_classes(targets_train, num_classes)\n",
    "classes_val = count_classes(targets_val, num_classes)\n",
    "classes_test = count_classes(targets_test, num_classes)\n",
    "\n",
    "fig, (ax1, ax2, ax3) = plt.subplots(1,3, figsize=(15,5))\n",
    "ax1.plot(classes_train)\n",
    "ax1.set(ylim=(0, classes_train.max()), xlabel='Class ID', ylabel='# samples per class', title='Training set')\n",
    "\n",
    "ax2.plot(classes_val)\n",
    "ax2.set(ylim=(0, classes_val.max()+10), xlabel='Class ID', title='Validation set')\n",
    "\n",
    "ax3.plot(classes_test)\n",
    "ax3.set(ylim=(0, classes_test.max()+10), xlabel='Class ID', title='Test set');"
   ]
  },
  {
   "cell_type": "markdown",
   "metadata": {},
   "source": [
    "# Classifier calibration\n",
    "The predictions are calibrated using Bias Corrected Temperature Scaling (BCTS) proposed in [1]\n",
    "\n",
    "[1] Amr  Alexandari, Anshul Kundaje, and Avanti Shrikumar. Maximum likelihood with bias-corrected calibration is hard-to-beat at label shift adaptation. ArXiv, 1901.06852v5, 2019.\n",
    "https://arxiv.org/pdf/1901.06852.pdf"
   ]
  },
  {
   "cell_type": "code",
   "execution_count": 7,
   "metadata": {
    "scrolled": false
   },
   "outputs": [
    {
     "name": "stdout",
     "output_type": "stream",
     "text": [
      "Before calibration - NLL: 3.079 \n",
      "After calibration - NLL: 2.006 \n"
     ]
    }
   ],
   "source": [
    "classes_train = classes_train / classes_train.sum()\n",
    "classes_val = classes_val / classes_val.sum()\n",
    "weights = classes_train / classes_val\n",
    "weights = weights / weights.sum() # class weights to compensate the diffirence in train and val. distributions\n",
    "\n",
    "# apply calibration\n",
    "T, b = learn_calibration(outputs_val, targets_val, lr=0.0001, iters=100, weights=ratio)\n",
    "preds_train = torch.softmax(outputs_train/T + b, dim=1)\n",
    "preds_val = torch.softmax(outputs_val/T + b, dim=1)\n",
    "preds_test = torch.softmax(outputs_test/T + b, dim=1)\n",
    "\n",
    "# compute classfier priors after calibration\n",
    "classifier_priors = torch.mean(preds_train, dim=0)\n",
    "\n",
    "# compute confusion matrices after calibration\n",
    "conf_mat = hard_confusion_matrix(preds_val, targets_val)\n",
    "conf_soft_mat = soft_confusion_matrix(preds_val, targets_val)\n",
    "conf_joint_mat = joint_confusion_matrix(preds_val, targets_val, classifier_priors / classes_val)\n",
    "conf_joint_soft_mat = compute_joint_soft_confusion_matrix(preds_val, targets_val, classifier_priors / classes_val)"
   ]
  },
  {
   "cell_type": "markdown",
   "metadata": {},
   "source": [
    "# Prior shift adaptation"
   ]
  },
  {
   "cell_type": "code",
   "execution_count": 4,
   "metadata": {
    "scrolled": false
   },
   "outputs": [
    {
     "data": {
      "text/html": [
       "<div>\n",
       "<style scoped>\n",
       "    .dataframe tbody tr th:only-of-type {\n",
       "        vertical-align: middle;\n",
       "    }\n",
       "\n",
       "    .dataframe tbody tr th {\n",
       "        vertical-align: top;\n",
       "    }\n",
       "\n",
       "    .dataframe thead th {\n",
       "        text-align: right;\n",
       "    }\n",
       "</style>\n",
       "<table border=\"1\" class=\"dataframe\">\n",
       "  <thead>\n",
       "    <tr style=\"text-align: right;\">\n",
       "      <th></th>\n",
       "      <th>NA</th>\n",
       "      <th>Oracle</th>\n",
       "      <th>CM</th>\n",
       "      <th>SCM</th>\n",
       "      <th>BBSE</th>\n",
       "      <th>BBSE-S</th>\n",
       "      <th>EM</th>\n",
       "      <th>CM$^L$</th>\n",
       "      <th>SCM$^L$</th>\n",
       "      <th>MAP</th>\n",
       "      <th>CM$^M$</th>\n",
       "      <th>SCM$^M$</th>\n",
       "    </tr>\n",
       "  </thead>\n",
       "  <tbody>\n",
       "    <tr>\n",
       "      <th>Accuracy</th>\n",
       "      <td>33.79</td>\n",
       "      <td>36.94</td>\n",
       "      <td>25.99</td>\n",
       "      <td>25.74</td>\n",
       "      <td>30.44</td>\n",
       "      <td>28.87</td>\n",
       "      <td>32.19</td>\n",
       "      <td>34.98</td>\n",
       "      <td>35.90</td>\n",
       "      <td>32.65</td>\n",
       "      <td>36.29</td>\n",
       "      <td>36.69</td>\n",
       "    </tr>\n",
       "  </tbody>\n",
       "</table>\n",
       "</div>"
      ],
      "text/plain": [
       "            NA  Oracle    CM   SCM  BBSE  BBSE-S    EM  CM$^L$  SCM$^L$   MAP  \\\n",
       "Accuracy 33.79   36.94 25.99 25.74 30.44   28.87 32.19   34.98    35.90 32.65   \n",
       "\n",
       "          CM$^M$  SCM$^M$  \n",
       "Accuracy   36.29    36.69  "
      ]
     },
     "metadata": {},
     "output_type": "display_data"
    }
   ],
   "source": [
    "# Prepare structure for results\n",
    "alg_list = ['NA', 'Oracle', 'CM', 'SCM', 'BBSE', 'BBSE-S', 'EM', 'CM$^L$', 'SCM$^L$', 'MAP', 'CM$^M$', 'SCM$^M$']\n",
    "results = dict()\n",
    "\n",
    "priors_test_gt = count_classes(targets_test, num_classes)\n",
    "priors_test_gt = priors_test_gt/priors_test_gt.sum()\n",
    "\n",
    "# No adaptation\n",
    "results['NA'] = accuracy(preds_test, targets_test)\n",
    "\n",
    "# Oracle\n",
    "preds = adjust_predictions(preds_test, classifier_priors, priors_test_gt)\n",
    "results['Oracle'] = accuracy(preds, targets_test)\n",
    "\n",
    "# EM\n",
    "preds, est_prior = EM_priors_estimation(preds_test, classifier_priors, termination_difference=0.001)\n",
    "results['EM'] = accuracy(preds, targets_test)\n",
    "\n",
    "# MAP\n",
    "preds, est_prior = MAP_estimate(preds_test, classifier_priors, num_iter=1000, lr=5e-8 , termination_difference=1e-5, alpha=3)\n",
    "results['MAP'] = accuracy(preds, targets_test)\n",
    "\n",
    "# CM\n",
    "est_prior = CM_estimate(preds_test, conf_mat, soft=False)\n",
    "preds = adjust_predictions(preds_test, classifier_priors, est_prior)\n",
    "results['CM'] = accuracy(preds, targets_test)\n",
    "\n",
    "# SCM\n",
    "est_prior = CM_estimate(preds_test, conf_soft_mat, soft=True)\n",
    "preds = adjust_predictions(preds_test, classifier_priors, est_prior)\n",
    "results['SCM'] = accuracy(preds, targets_test)\n",
    "\n",
    "# BBSE\n",
    "est_weight = BBSE_estimate(preds_test, conf_joint_mat, soft=False)\n",
    "preds = adjust_predictions(preds_test, torch.ones_like(est_weight), est_weight)\n",
    "results['BBSE'] = accuracy(preds, targets_test)\n",
    "\n",
    "# BBSE-S\n",
    "est_weight = BBSE_estimate(preds_test, conf_joint_soft_mat, soft=True)\n",
    "preds = adjust_predictions(preds_test, torch.ones_like(est_weight), est_weight)\n",
    "results['BBSE-S'] = accuracy(preds, targets_test)\n",
    "\n",
    "# CM-L\n",
    "preds, est_prior = matrix_correction_MLE(preds_test, classifier_priors, conf_mat, soft=False, max_iter=1000, lr=1e-4)\n",
    "results['CM$^L$'] = accuracy(preds, targets_test)\n",
    "\n",
    "# SCM-L\n",
    "preds, est_prior = matrix_correction_MLE(preds_test, classifier_priors, conf_soft_mat, soft=True, max_iter=1000, lr=1e-3)\n",
    "results['SCM$^L$'] = accuracy(preds, targets_test)\n",
    "\n",
    "# CM-M\n",
    "preds, est_prior = matrix_correction_MAP(preds_test, classifier_priors, conf_mat, soft=False, max_iter=1000, lr=1e-3, alpha=3)\n",
    "results['CM$^M$'] = accuracy(preds, targets_test)\n",
    "\n",
    "# SCM-M\n",
    "preds, est_prior = matrix_correction_MAP(preds_test, classifier_priors, conf_soft_mat, soft=True, max_iter=1000, lr=1e-3, alpha=3)\n",
    "results['SCM$^M$'] = accuracy(preds, targets_test)\n",
    "\n",
    "# display results\n",
    "data_acc = [ results[item] for item in alg_list]\n",
    "df_acc = pd.DataFrame(data=data_acc, columns=['Accuracy'])\n",
    "df_acc.set_index([[item for item in alg_list]], inplace=True)\n",
    "display(df_acc.transpose())\n"
   ]
  }
 ],
 "metadata": {
  "kernelspec": {
   "display_name": "Python 3.6.10 64-bit ('mpv-gpu': conda)",
   "language": "python",
   "name": "python361064bitmpvgpuconda633e371159fa4e57ac85727461f24874"
  },
  "language_info": {
   "codemirror_mode": {
    "name": "ipython",
    "version": 3
   },
   "file_extension": ".py",
   "mimetype": "text/x-python",
   "name": "python",
   "nbconvert_exporter": "python",
   "pygments_lexer": "ipython3",
   "version": "3.7.10"
  }
 },
 "nbformat": 4,
 "nbformat_minor": 4
}
