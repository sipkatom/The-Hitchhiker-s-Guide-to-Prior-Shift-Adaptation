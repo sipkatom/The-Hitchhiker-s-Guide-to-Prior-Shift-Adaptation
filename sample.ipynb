{
 "cells": [
  {
   "cell_type": "code",
   "execution_count": 1,
   "metadata": {},
   "outputs": [],
   "source": [
    "import prior_shift\n",
    "import torch\n",
    "import numpy as np"
   ]
  },
  {
   "cell_type": "code",
   "execution_count": 2,
   "metadata": {},
   "outputs": [],
   "source": [
    "predictions_dict = torch.load('supplementary_material/CIFAR100_LT_outputs/outputs.pth.tar', map_location=torch.device('cpu'))\n",
    "outputs_train = predictions_dict['outputs_train'].detach().to('cpu')\n",
    "targets_train = predictions_dict['targets_train'].detach().to('cpu').numpy()\n",
    "outputs_val = predictions_dict['outputs_val'].detach().to('cpu')\n",
    "targets_val = predictions_dict['targets_val'].detach().to('cpu').numpy()\n",
    "outputs_test = predictions_dict['outputs_test'].detach().to('cpu')\n",
    "targets_test = predictions_dict['targets_test'].detach().to('cpu').numpy()\n",
    "\n",
    "preds_train = torch.softmax(outputs_train, dim=1).numpy()\n",
    "preds_val = torch.softmax(outputs_val, dim=1).numpy()\n",
    "preds_test = torch.softmax(outputs_test, dim=1).numpy()"
   ]
  },
  {
   "cell_type": "code",
   "execution_count": 3,
   "metadata": {},
   "outputs": [],
   "source": [
    "def accuracy(predictions, gt):\n",
    "    \"\"\" Compute accuracy given predictions and ground truth labels.\n",
    "    Args:\n",
    "        predictions: np.array (num_data, num_classes) with output predictions\n",
    "        gt: np.array (num_data) with ground truth labels.\n",
    "    Returns:\n",
    "        accuracy: float with classifier accuracy\n",
    "    \"\"\"\n",
    "    size = gt.shape[0]\n",
    "    predictions = np.argmax(predictions, axis=1)\n",
    "    acc = np.sum(predictions == gt).astype(float)/size\n",
    "    return (acc*100).item()"
   ]
  },
  {
   "cell_type": "code",
   "execution_count": 4,
   "metadata": {},
   "outputs": [
    {
     "data": {
      "text/plain": [
       "35.44"
      ]
     },
     "execution_count": 4,
     "metadata": {},
     "output_type": "execute_result"
    }
   ],
   "source": [
    "preds = prior_shift.adapt_to_prior_shift(preds_test, preds_val, targets_val, preds_train, targets_train)\n",
    "acc_after = accuracy(preds, targets_test)\n",
    "acc_before = accuracy(preds_test, targets_test)\n",
    "print(\"Accuracy before: {acc_before}, accuracy after: {acc_after}\")"
   ]
  }
 ],
 "metadata": {
  "kernelspec": {
   "display_name": "Python 3.9.13 ('prior_shift')",
   "language": "python",
   "name": "python3"
  },
  "language_info": {
   "codemirror_mode": {
    "name": "ipython",
    "version": 3
   },
   "file_extension": ".py",
   "mimetype": "text/x-python",
   "name": "python",
   "nbconvert_exporter": "python",
   "pygments_lexer": "ipython3",
   "version": "3.9.13"
  },
  "orig_nbformat": 4,
  "vscode": {
   "interpreter": {
    "hash": "76c633a6c06913ce4231f72391bea9f5c09716666472d58979d8ddde3f2c76c0"
   }
  }
 },
 "nbformat": 4,
 "nbformat_minor": 2
}
